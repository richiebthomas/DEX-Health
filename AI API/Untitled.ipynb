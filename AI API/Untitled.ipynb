{
 "cells": [
  {
   "cell_type": "code",
   "execution_count": 8,
   "id": "153f1bb7-c60f-4efa-a4bf-445e1617e84f",
   "metadata": {},
   "outputs": [],
   "source": [
    "import pandas as pd"
   ]
  },
  {
   "cell_type": "code",
   "execution_count": 9,
   "id": "599794b5-3e36-441e-836d-772c6f2dc075",
   "metadata": {},
   "outputs": [
    {
     "name": "stdout",
     "output_type": "stream",
     "text": [
      "Column Names in the Dataset:\n",
      "['ID', 'Sex', 'Age', 'Height', 'Weight', 'Hypertension', 'Diabetes', 'BMI', 'Level', 'Fitness Goal', 'Fitness Type', 'Exercises', 'Equipment', 'Diet', 'Recommendation']\n"
     ]
    }
   ],
   "source": [
    "data = pd.read_excel('gym recommendation.xlsx')\n",
    "\n",
    "\n",
    "\n",
    "# Print all column names\n",
    "print(\"Column Names in the Dataset:\")\n",
    "print(data.columns.tolist())\n"
   ]
  },
  {
   "cell_type": "code",
   "execution_count": 10,
   "id": "20bb34a3-41a7-4571-901f-18309d233cf8",
   "metadata": {},
   "outputs": [],
   "source": [
    "import pandas as pd\n",
    "from sklearn.model_selection import train_test_split\n",
    "from sklearn.ensemble import RandomForestClassifier\n",
    "from sklearn.multioutput import MultiOutputClassifier\n",
    "from sklearn.metrics import classification_report\n",
    "\n",
    "# Feature selection\n",
    "X = data[['Sex', 'Age', 'Height', 'Weight', 'Hypertension', 'Diabetes', 'BMI', 'Level', 'Fitness Goal', 'Fitness Type']]  # Features\n",
    "y = data[['Exercises', 'Equipment', 'Diet', 'Recommendation']]  # Multiple target columns\n",
    "\n",
    "# Encode categorical variables\n",
    "X = pd.get_dummies(X)\n",
    "\n",
    "# Train-test split\n",
    "X_train, X_test, y_train, y_test = train_test_split(X, y, test_size=0.2, random_state=42)\n",
    "\n",
    "# Train the model with MultiOutputClassifier for multiple targets\n",
    "model = MultiOutputClassifier(RandomForestClassifier())\n",
    "model.fit(X_train, y_train)\n",
    "\n",
    "# Make predictions\n",
    "y_pred = model.predict(X_test)\n",
    "\n",
    "\n"
   ]
  },
  {
   "cell_type": "code",
   "execution_count": 11,
   "id": "451f63e7-dc0e-4216-85bf-710996dd3234",
   "metadata": {},
   "outputs": [
    {
     "name": "stdout",
     "output_type": "stream",
     "text": [
      "Model saved as 'fitness_model.pkl'\n"
     ]
    }
   ],
   "source": [
    "import joblib\n",
    "\n",
    "# Save the trained model to a file\n",
    "joblib.dump(model, 'fitness_model.pkl')\n",
    "print(\"Model saved as 'fitness_model.pkl'\")\n"
   ]
  },
  {
   "cell_type": "code",
   "execution_count": 12,
   "id": "d84c5285-0a0a-466b-945e-c95f942865d0",
   "metadata": {},
   "outputs": [],
   "source": [
    "new_data = pd.DataFrame({\n",
    "    'Sex':['Male'],\n",
    "    'Level': ['Underweight'],\n",
    "    'Fitness Goal': ['Weight Loss'],\n",
    "    'Age': [20],\n",
    "    'Height':[1.73],\n",
    "    'Weight':[80],\n",
    "    'Diabetes':['No']\n",
    "})\n",
    "\n",
    "# Perform one-hot encoding (must match the training data's encoding)\n",
    "new_data_encoded = pd.get_dummies(new_data)\n",
    "\n",
    "# Ensure the columns match the training set\n",
    "new_data_encoded = new_data_encoded.reindex(columns=X.columns, fill_value=0)\n"
   ]
  },
  {
   "cell_type": "code",
   "execution_count": 13,
   "id": "0245978e-deb5-4849-9043-07ca372780fe",
   "metadata": {},
   "outputs": [
    {
     "name": "stdout",
     "output_type": "stream",
     "text": [
      "Prediction: ['Brisk walking, cycling, swimming, running , or dancing.'\n",
      " 'Ellipticals, Indoor Rowers,Treadmills, Rowing machine'\n",
      " 'Vegetables: (Broccoli, Carrots, Spinach, Lettuce, Onion); Protein Intake: (Cheese, Cattoge cheese, Skim Milk, Law fat Milk, and Baru Nuts); Juice: (Fruit Juice, Aloe vera juice, Cold-pressed juice, and Watermelon juice)'\n",
      " \"Follow a regular exercise schedule. Adhere to the exercise and diet plan to get better results. It is important to approach weight loss in a healthy and balanced way, focusing on exercise and nutrition. Keep in mind that weight lossshould be gradual and focused on building lean muscle rather than increasing fat. Additionally, it's always a good idea to consult with a healthcare professional or registered dietitian before making any significant changes to your exercise or diet plan. Here are some important tips:- Stay hydrated by drinking enough water throughout the day. Monitor your progress and adjust your diet and exercise routine accordingly. Get adequate sleep to support muscle recovery and overall health. Always monitor your situation, and consult your doctor or a professional counselor. Always consult with your healthcare provider before starting any new diet or exercise program, especially if you have underlying health conditions like hypertension. They can provide guidance based on your specific health needs and may recommend additional strategies or medications if necessary. Consistency: Establish a consistent eating and exercise routine. Consistency is key when it comes to long-term weight management. NOTICE: Opt for whole grains over refined grains for added fiber.Limit added sugars and opt for natural sources like honey or fruits.\"]\n"
     ]
    }
   ],
   "source": [
    "# Load the model\n",
    "loaded_model = joblib.load('fitness_model.pkl')\n",
    "\n",
    "# Test with new data\n",
    "prediction = loaded_model.predict(new_data_encoded)\n",
    "print(\"Prediction:\", prediction[0])\n"
   ]
  },
  {
   "cell_type": "code",
   "execution_count": null,
   "id": "08bb7dbd-b4bc-4c4a-9cc0-06c0d9159432",
   "metadata": {},
   "outputs": [],
   "source": []
  }
 ],
 "metadata": {
  "kernelspec": {
   "display_name": "Python 3 (ipykernel)",
   "language": "python",
   "name": "python3"
  },
  "language_info": {
   "codemirror_mode": {
    "name": "ipython",
    "version": 3
   },
   "file_extension": ".py",
   "mimetype": "text/x-python",
   "name": "python",
   "nbconvert_exporter": "python",
   "pygments_lexer": "ipython3",
   "version": "3.11.7"
  }
 },
 "nbformat": 4,
 "nbformat_minor": 5
}
